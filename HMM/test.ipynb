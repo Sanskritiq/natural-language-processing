{
 "cells": [
  {
   "cell_type": "code",
   "execution_count": 16,
   "metadata": {},
   "outputs": [],
   "source": [
    "import numpy as  np\n",
    "import pandas as  pd\n",
    "import matplotlib.pyplot as plt\n",
    "import nltk"
   ]
  },
  {
   "cell_type": "code",
   "execution_count": 17,
   "metadata": {},
   "outputs": [],
   "source": [
    "DATA_PATH = 'Brown_train.txt'"
   ]
  },
  {
   "cell_type": "code",
   "execution_count": 18,
   "metadata": {},
   "outputs": [
    {
     "name": "stdout",
     "output_type": "stream",
     "text": [
      "origin/destination/NOUN origin/destination NOUN\n",
      "and/or/CONJ and/or CONJ\n",
      "14-1/2/NUM 14-1/2 NUM\n",
      "14-1/2/NUM 14-1/2 NUM\n",
      "14-1/2/NUM 14-1/2 NUM\n",
      "14-1/2/NUM 14-1/2 NUM\n",
      "1/3/NUM 1/3 NUM\n",
      "33-1/3%/NOUN 33-1/3% NOUN\n",
      "6-1/2/NUM 6-1/2 NUM\n",
      "and/or/CONJ and/or CONJ\n",
      "0.1-mv./m./NOUN 0.1-mv./m. NOUN\n",
      "0.5-mv./m./NOUN 0.5-mv./m. NOUN\n",
      "and/or/CONJ and/or CONJ\n",
      "and/or/CONJ and/or CONJ\n",
      "3-1/2/NUM 3-1/2 NUM\n",
      "1/4''/NOUN 1/4'' NOUN\n",
      "1/2/NUM 1/2 NUM\n",
      "1/4/NUM 1/4 NUM\n",
      "1/16/NUM 1/16 NUM\n",
      "1/16''/NOUN 1/16'' NOUN\n",
      "Mc/sec/NOUN Mc/sec NOUN\n",
      "Mc/sec/NOUN Mc/sec NOUN\n",
      "Mc/sec/NOUN Mc/sec NOUN\n",
      "builder/active/ADJ builder/active ADJ\n",
      "//ADP / ADP\n",
      "//ADP / ADP\n",
      "7/2/NUM 7/2 NUM\n",
      "7/2/NUM 7/2 NUM\n",
      "N/g/NOUN N/g NOUN\n",
      "milliamperes/cell/NOUN milliamperes/cell NOUN\n",
      "run/chamber/VERB run/chamber VERB\n",
      "18-1/2/NUM 18-1/2 NUM\n",
      "33-1/2/NUM 33-1/2 NUM\n",
      "19-1/2/NUM 19-1/2 NUM\n",
      "37-1/2/NUM 37-1/2 NUM\n",
      "and/or/CONJ and/or CONJ\n",
      "/l//NOUN /l/ NOUN\n",
      "AAb//NOUN AAb/ NOUN\n",
      "/r//NOUN /r/ NOUN\n",
      "/l//NOUN /l/ NOUN\n",
      "AAb//NOUN AAb/ NOUN\n",
      "//ADP / ADP\n",
      "A/3/NOUN A/3 NOUN\n",
      "6-2/3/NUM 6-2/3 NUM\n",
      "7070/7074/NUM 7070/7074 NUM\n",
      "7070/7074/NUM 7070/7074 NUM\n",
      "7070/7074/NUM 7070/7074 NUM\n",
      "Input/Output/ADJ Input/Output ADJ\n",
      "Input/Output/ADJ Input/Output ADJ\n",
      "Input/Output/ADJ Input/Output ADJ\n",
      "7070/7074/NUM 7070/7074 NUM\n",
      "input/output/NOUN input/output NOUN\n",
      "Input/Output/ADJ Input/Output ADJ\n",
      "mg/l/NOUN mg/l NOUN\n",
      "//ADP / ADP\n",
      "//ADP / ADP\n",
      "mg/l/NOUN mg/l NOUN\n",
      "mg/lBOD/NOUN mg/lBOD NOUN\n",
      "mg/l/NOUN mg/l NOUN\n",
      "BOD/day/NOUN BOD/day NOUN\n",
      "BOD/day/1,000/NOUN BOD/day/1,000 NOUN\n",
      "BOD/day/acre/NOUN BOD/day/acre NOUN\n",
      "mg/l/NOUN mg/l NOUN\n",
      "mg/l/NOUN mg/l NOUN\n",
      "mg/l/hr/NOUN mg/l/hr NOUN\n",
      "mg/l/hr/NOUN mg/l/hr NOUN\n",
      "mg/l/NOUN mg/l NOUN\n",
      "//ADP / ADP\n",
      "mg/l/NOUN mg/l NOUN\n",
      "lb/day/NOUN lb/day NOUN\n",
      "//ADP / ADP\n",
      "//ADP / ADP\n",
      "mg/l/NOUN mg/l NOUN\n",
      "mg/l/NOUN mg/l NOUN\n",
      "//ADP / ADP\n",
      "//ADP / ADP\n",
      "mg/l/NOUN mg/l NOUN\n",
      "//ADP / ADP\n",
      "//ADP / ADP\n",
      "//ADP / ADP\n",
      "knife/coating/NOUN knife/coating NOUN\n",
      "//ADP / ADP\n",
      "//ADP / ADP\n",
      "//ADP / ADP\n",
      "//ADP / ADP\n",
      "B.t.u./sq./X B.t.u./sq. X\n",
      "material/hr./*0F./in./X material/hr./*0F./in. X\n",
      "//ADP / ADP\n",
      "//ADP / ADP\n",
      "1/16/NUM 1/16 NUM\n",
      "2-1/2/NUM 2-1/2 NUM\n",
      "1/2/NUM 1/2 NUM\n",
      "1/2/NUM 1/2 NUM\n",
      "//ADP / ADP\n",
      "lumen/watt/NOUN lumen/watt NOUN\n",
      "1/4-inch/NOUN 1/4-inch NOUN\n",
      "1/4/NUM 1/4 NUM\n",
      "At\n",
      "ADP\n",
      "('At', 'ADP')\n",
      "33643\n",
      "12\n",
      "35910\n"
     ]
    }
   ],
   "source": [
    "words = []\n",
    "tags = []\n",
    "word_tags = []\n",
    "for line in open(DATA_PATH):\n",
    "    # print(line)\n",
    "    word_tag= line.strip().split()\n",
    "    for word_tag in line.strip().split():\n",
    "        try:\n",
    "            word, tag = word_tag.split('/')\n",
    "        except:\n",
    "            tag = word_tag.split('/')[-1]\n",
    "            word = '/'.join(word_tag.split('/')[:-1]).strip()\n",
    "            print(word_tag, word, tag)\n",
    "        # word, tag = word_tag.split('/')\n",
    "        if word not in words:\n",
    "            words.append(word)\n",
    "        if tag not in tags:\n",
    "            tags.append(tag)\n",
    "        if (word, tag) not in word_tags:\n",
    "            word_tags.append((word, tag))\n",
    "    # print(word, tag)\n",
    "    # break\n",
    "print(words[0])\n",
    "print(tags[0])\n",
    "print(word_tags[0])\n",
    "print(len(words))\n",
    "print(len(tags))\n",
    "print(len(word_tags))"
   ]
  },
  {
   "cell_type": "code",
   "execution_count": 19,
   "metadata": {},
   "outputs": [
    {
     "name": "stdout",
     "output_type": "stream",
     "text": [
      "['ADP', 'DET', 'NOUN', 'VERB', 'ADJ', 'CONJ', 'PRT', '.', 'ADV', 'NUM', 'PRON', 'X']\n"
     ]
    }
   ],
   "source": [
    "print(tags)"
   ]
  }
 ],
 "metadata": {
  "kernelspec": {
   "display_name": "Python 3",
   "language": "python",
   "name": "python3"
  },
  "language_info": {
   "codemirror_mode": {
    "name": "ipython",
    "version": 3
   },
   "file_extension": ".py",
   "mimetype": "text/x-python",
   "name": "python",
   "nbconvert_exporter": "python",
   "pygments_lexer": "ipython3",
   "version": "3.9.0"
  }
 },
 "nbformat": 4,
 "nbformat_minor": 2
}
